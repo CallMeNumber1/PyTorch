{
 "cells": [
  {
   "cell_type": "markdown",
   "metadata": {},
   "source": [
    "#### Neural Networks\n",
    "使用torch.nn包来构建神经网络\n",
    "上一讲已经讲过了autograd，nn包依赖autograd包来定义模型并求导。\n",
    "一个nn.Module包括各个层和一个forward(input)方法，该方法返回output\n",
    "例如：\n",
    "![](https://raw.githubusercontent.com/CallMeNumber1/FigureBed/windows/img/20190917211507.png)\n",
    "是一个简单的前馈神经网络，它接收一个输入，然后一层接着一层传递，最后输出计算的结果。\n",
    "神经网络的典型训练过程如下：\n",
    "1. 定义一些可学习的参数（权重）神经网络模型；\n",
    "2. 在数据集上迭代\n",
    "3. 通过神经网络处理输入\n",
    "4. 计算损失（输出结果和正确值的差值大小）\n",
    "5. 将梯度反向传播回网络的参数\n",
    "6. 更新网络的参数，主要使用如下简单的更新规则：$weight = weight - learning rate * gradient$\n",
    "> 事实上，上面即为LeNet-5（CNN的开山之作），麻雀虽小，五脏俱全\n",
    ">- 用卷积层提取空间特征\n",
    ">- 由空间平均得到子样本\n",
    ">- 由tanh或sigmoid得到非线性\n",
    ">- 用multi-layer nerual network（MLP）作为最终分类器\n",
    ">- 层层之间用稀疏的连接矩阵，以避免大的计算成本\n",
    "\n",
    "> 个人理解：即卷积层提取特征，最后再用多层神经网络进行分类"
   ]
  },
  {
   "cell_type": "markdown",
   "metadata": {},
   "source": [
    "####  定义网络"
   ]
  },
  {
   "cell_type": "code",
   "execution_count": 1,
   "metadata": {},
   "outputs": [
    {
     "name": "stdout",
     "output_type": "stream",
     "text": [
      "Net(\n",
      "  (conv1): Conv2d(1, 6, kernel_size=(5, 5), stride=(1, 1))\n",
      "  (conv2): Conv2d(6, 16, kernel_size=(5, 5), stride=(1, 1))\n",
      "  (fc1): Linear(in_features=400, out_features=120, bias=True)\n",
      "  (fc2): Linear(in_features=120, out_features=84, bias=True)\n",
      "  (fc3): Linear(in_features=84, out_features=10, bias=True)\n",
      ")\n"
     ]
    }
   ],
   "source": [
    "import torch\n",
    "import torch.nn as nn\n",
    "import torch.nn.functional as F\n",
    "\n",
    "class Net(nn.Module):\n",
    "    # 定义Net的初始化函数，这个函数定义了该神经网络的基本结构\n",
    "    def __init__(self):\n",
    "        # 复制并使用Net的父类的初始化方法，即运行nn.Module的初始化函数\n",
    "        super(Net, self).__init__()\n",
    "        # 1 input image channel, 6 output channels, 5 * 5 squre convolution kernel\n",
    "        # 定义conv1函数的是图像卷积函数：输入为图像（1个频道，即灰度图）,输出为 6张特征图, 卷积核为5x5正方形\n",
    "        self.conv1 = nn.Conv2d(1, 6, 5)\n",
    "        # 定义conv2函数的是图像卷积函数：输入为6张特征图,输出为16张特征图, 卷积核为5x5正方形\n",
    "        self.conv2 = nn.Conv2d(6, 16, 5)\n",
    "        # an affine operation: y = Wx + b\n",
    "        # 定义fc1（fullconnect）全连接函数1为线性函数：y = Wx + b，并将16*5*5个节点连接到120个节点上\n",
    "        self.fc1 = nn.Linear(16 * 5 *5, 120)\n",
    "        self.fc2 = nn.Linear(120, 84)\n",
    "        self.fc3 = nn.Linear(84, 10)\n",
    "        \n",
    "    # 定义该神经网络的前向传播函数，该函数必须定义，一旦定义成功，反向传播函数也会自动生成（autograd）\n",
    "    def forward(self, x):\n",
    "        # Max pooling over a (2, 2) window\n",
    "        # 输入x经过卷积conv1之后，经过激活函数ReLU，使用2x2的窗口进行最大池化Max pooling，然后更新到x。\n",
    "        x = F.max_pool2d(F.relu(self.conv1(x)), (2, 2))\n",
    "        # If the size is a square you can only specify a single number\n",
    "        x = F.max_pool2d(F.relu(self.conv2(x)), 2)\n",
    "        # view函数将张量x变形成一维的向量形式，总特征数并不改变，为接下来的全连接作准备。\n",
    "        # 使用num_flat_features函数计算张量x的总特征量（把每个数字都看出是一个特征，即特征总量），比如x是4*2*2的张量，那么它的特征总量就是16\n",
    "        x = x.view(-1, self.num_flat_features(x))\n",
    "        # 输入x经过全连接1，再经过ReLU激活函数，然后更新x\n",
    "        x = F.relu(self.fc1(x))\n",
    "        x = F.relu(self.fc2(x))\n",
    "        # 输入x经过全连接3，然后更新x\n",
    "        x = self.fc3(x)\n",
    "        return x\n",
    "    def num_flat_features(self, x):\n",
    "        # all dimensions except the batch dimension\n",
    "        size = x.size()[1:] \n",
    "        num_features = 1\n",
    "        for s in size:\n",
    "            num_features *= s\n",
    "        return num_features\n",
    "net = Net()\n",
    "print(net)"
   ]
  },
  {
   "cell_type": "markdown",
   "metadata": {},
   "source": [
    "net.parameters()返回可被学习的参数（权重）列表和值"
   ]
  },
  {
   "cell_type": "code",
   "execution_count": 2,
   "metadata": {},
   "outputs": [
    {
     "name": "stdout",
     "output_type": "stream",
     "text": [
      "10\n",
      "torch.Size([6, 1, 5, 5])\n"
     ]
    }
   ],
   "source": [
    "params = list(net.parameters())\n",
    "print(len(params))\n",
    "# conv1's weight\n",
    "print(params[0].size())"
   ]
  },
  {
   "cell_type": "markdown",
   "metadata": {},
   "source": [
    "测试随机输入32 * 32。注：这个网络（LeNet）期望的输入大小是32 * 32，如果使用MINIST数据集来训练这个网络，请把图片大小重新调整到32 * 32"
   ]
  },
  {
   "cell_type": "code",
   "execution_count": 3,
   "metadata": {},
   "outputs": [
    {
     "name": "stdout",
     "output_type": "stream",
     "text": [
      "tensor([[-0.0529,  0.0584,  0.0137,  0.0311,  0.0697, -0.1507, -0.0106,  0.0840,\n",
      "          0.0604,  0.0690]], grad_fn=<AddmmBackward>)\n"
     ]
    }
   ],
   "source": [
    "# 为何为1 * 1 * 32 * 32 而非直接32 * 32 呢？\n",
    "input = torch.randn(1, 1, 32, 32)\n",
    "out = net(input)\n",
    "print(out)"
   ]
  },
  {
   "cell_type": "markdown",
   "metadata": {},
   "source": [
    "将所有参数的梯度缓存清零，然后进行随机梯度的反向传播"
   ]
  },
  {
   "cell_type": "code",
   "execution_count": 4,
   "metadata": {},
   "outputs": [],
   "source": [
    "net.zero_grad()\n",
    "out.backward(torch.randn(1, 10))"
   ]
  },
  {
   "cell_type": "markdown",
   "metadata": {},
   "source": [
    ">``torch.nn`` 只支持小批量输入。整个 ``torch.nn`` 包都只支持小批量样本，而不支持单个样本。 例如，``nn.Conv2d`` 接受一个4维的张量， ``每一维分别是sSamples * nChannels * Height * Width（样本数*通道数*高*宽）``。 如果你有单个样本，只需使用 ``input.unsqueeze(0)`` 来添加其它的维数"
   ]
  },
  {
   "cell_type": "markdown",
   "metadata": {},
   "source": [
    "在继续之前，我们回顾一下到目前为止用到的类\n",
    "- torch.Tensor：一个用自动调用 backward()实现支持自动梯度计算的 多维数组 ， 并且保存关于这个向量的梯度\n",
    "- nn.Module：神经网络模块。封装参数、移动到GPU上运行、导出、加载等\n",
    "- nn.Parameter：一种变量，当把它赋值给一个Module时，被自动注册为一个参数\n",
    "- autograd.Function：实现一个自动求导操作的前向和反向定义...\n",
    "\n",
    "重点如下：\n",
    "- 定义一个网络\n",
    "- 处理输入，调用backward\n",
    "还剩下：\n",
    "- 计算损失\n",
    "- 更新网络权重\n",
    "### 损失函数\n",
    "一个损失函数接收一对(output, target)作为输入，计算一个值来估计网络的输出和目标值差多少\n",
    "nn包中有很多不同的损失函数。 nn.MSELoss是一个比较简单的损失函数，它计算输出和目标间的均方误差， 例如："
   ]
  },
  {
   "cell_type": "code",
   "execution_count": 6,
   "metadata": {},
   "outputs": [
    {
     "name": "stdout",
     "output_type": "stream",
     "text": [
      "tensor(1.3177, grad_fn=<MseLossBackward>)\n"
     ]
    }
   ],
   "source": [
    "output = net(input)\n",
    "# 随机值作为样例\n",
    "target = torch.randn(10)\n",
    "# 使target和output的shape相同\n",
    "target = target.view(1, -1)\n",
    "criterion = nn.MSELoss()\n",
    "\n",
    "loss = criterion(output, target)\n",
    "print(loss)"
   ]
  },
  {
   "cell_type": "markdown",
   "metadata": {},
   "source": [
    "现在，如果在反向过程中跟随loss，使用它的.grad_fn属性，将会看到如下所示的计算图：\n",
    "input -> conv2d -> relu -> maxpool2d -> conv2d -> relu -> maxpool2d\n",
    "      -> view -> linear -> relu -> linear -> relu -> linear\n",
    "      -> MSELoss\n",
    "      -> loss\n",
    "所以，当我们调用 loss.backward()时,整张计算图都会 根据loss进行微分，而且图中所有设置为requires_grad=True的张量 将会拥有一个随着梯度累积的.grad 张量。"
   ]
  },
  {
   "cell_type": "markdown",
   "metadata": {},
   "source": [
    "### 反向传播\n",
    "调用loss.backward()获得反向传播的误差\n",
    "\n",
    "但是在调用前需要清除已存在的梯度，否则梯度将被累加到已存在的梯度。\n",
    "\n",
    "现在，我们将调用loss.backward()，并查看conv1层的偏差（bias）项在反向传播前后的梯度。"
   ]
  },
  {
   "cell_type": "code",
   "execution_count": 7,
   "metadata": {},
   "outputs": [
    {
     "name": "stdout",
     "output_type": "stream",
     "text": [
      "conv1.bias.grad before backward\n",
      "tensor([0., 0., 0., 0., 0., 0.])\n",
      "conv1.bias.grad after backward\n",
      "tensor([-0.0012, -0.0012, -0.0160,  0.0099,  0.0057,  0.0078])\n"
     ]
    }
   ],
   "source": [
    "# 清除梯度\n",
    "net.zero_grad()\n",
    "print('conv1.bias.grad before backward')\n",
    "print(net.conv1.bias.grad)\n",
    "loss.backward()\n",
    "print('conv1.bias.grad after backward')\n",
    "print(net.conv1.bias.grad)"
   ]
  },
  {
   "cell_type": "markdown",
   "metadata": {},
   "source": [
    "如何使用损失函数\n",
    "\n",
    "**稍后阅读**：nn包，包含了各种用来构成深度神经网络构建块的模块和损失函数\n",
    "### 更新权重\n",
    "在实践中最简单的权重更新规则是随机梯度下降（SGD）：\n",
    "`weight = weight - learning_rate * gradient`\n",
    "我们可以使用简单的Python代码来实现这个规则：：\n",
    "```python\n",
    "learning_rate = 0.01\n",
    "    for f in net.parameters():\n",
    "        f.data.sub_(f.grad.data * learning_rate)\n",
    "```\n",
    "但是当使用神经网络是想要使用各种不同的更新规则时，比如SGD、Nesterov-SGD、Adam、RMSPROP等，PyTorch中构建了一个包torch.optim实现了所有的这些规则。 使用它们非常简单："
   ]
  },
  {
   "cell_type": "code",
   "execution_count": 11,
   "metadata": {},
   "outputs": [],
   "source": [
    "import torch.optim as optim\n",
    "# create your optimizer\n",
    "optimizer = optim.SGD(net.parameters(), lr = 0.01)\n",
    "\n",
    "# in your training loop\n",
    "optimizer.zero_grad()  # zero the gradient buffers\n",
    "output = net(input)\n",
    "loss = criterion(output, target)\n",
    "loss.backward()\n",
    "optimizer.step()      # Does the update"
   ]
  },
  {
   "cell_type": "markdown",
   "metadata": {},
   "source": [
    ">注意： 观察如何使用``optimizer.zero_grad()``手动将梯度缓冲区设置为零。\n",
    "  这是因为梯度是按Backprop部分中的说明累积的。"
   ]
  },
  {
   "cell_type": "markdown",
   "metadata": {},
   "source": [
    "### 补充：本节涉及到的Python知识\n",
    "**类的定义**\n",
    "Python是一门动态语言，因此它的类所包含的类变量/实例变量可以动态增加或删除\n",
    "在类中定义的方法默认是实例方法，定义实例方法的方法与定义函数的方法基本相同，只是实例方法的第一个参数会被绑定到方法的调用者（该类的实例），因此实例方法至少应该定义一个参数，该参数通常会被命名为 self。\n",
    ">注意：实例方法的第一个参数并不一定要叫 self，其实完全可以叫任意参数名，只是约定俗成地把该参数命名为 self，这样具有最好的可读性。\n",
    "\n",
    "在实例方法中有一个特别的方法：`__init__`，这个方法被称为构造方法。构造方法用于构造该类的对象，Python 通过调用构造方法返回该类的对象（无须使用 new）。|\n",
    ">Python 中很多这种以双下划线开头、双下划线结尾的方法，都具有特殊的意义，\n",
    "\n",
    "构造方法是一个类创建对象的根本途径，因此 Python 还提供了一个功能：如果开发者没有为该类定义任何构造方法，那么 Python 会自动为该类定义一个只包含一个 self 参数的默认的构造方法\n",
    "**类的使用**\n",
    "定义变量；创建对象；派生子类\n",
    "### 其他\n",
    "1.nn.Conv2d(self, in_channels, out_channels, kernel_size, stride=1, padding=0, dilation=1, groups=1, bias=True))\\n\n",
    "- in_channel:　输入数据的通道数，例RGB图片通道数为3；\n",
    "- out_channel: 输出数据的通道数，这个根据模型调整；\n",
    "- kennel_size: 卷积核大小，可以是int，或tuple；kennel_size=2,意味着卷积大小(2,2)， kennel_size=（2,3），意味着卷积大小（2，3）即非正方形卷积\n",
    "- stride：步长，默认为1，与kennel_size类似，stride=2,意味着步长上下左右扫描皆为2， stride=（2,3），左右扫描步长为2，上下为3；\n",
    "- padding：　零填充\n",
    "\n",
    "2.nn.Linear(in_features, out_feartures, bias = True)\n",
    "- in_features：输入样本的大小\n",
    "- out_features:输出样本的大小\n",
    "- bias: 如果设置为False，则图层不会学习附加偏差。默认值：True\n",
    "\n",
    "对传入数据应用线性变换：y = Ax + b\n",
    "\n",
    "weight = Parameter(torch.Tensor(out_features, in_features))\n",
    "\n",
    "bias = Parameter(torch.Tensor(out_features))\n",
    "\n",
    "3.x.view()\n",
    "把原来tensor中的数据按照行优先的顺序排成一个一维的数据，然后按照参数组合成其他维度的tensor\n",
    "\n",
    ">另外，参数不可空。参数中的-1就代表这个位置由其他位置的数字来推断，只要在不歧义的情况下就可以推断出来\n",
    "\n",
    "4.self.num_flat_features(x)\n",
    "使用num_flat_features函数计算张量x的总特征量（把每个数字都看出是一个特征，即特征总量），比如x是4 * 2 * 2的张量，那么它的特征总量就是16"
   ]
  },
  {
   "cell_type": "code",
   "execution_count": null,
   "metadata": {},
   "outputs": [],
   "source": [
    "m = nn.Linear(20, 30)\n",
    "# weight: [30, 20] bias: 30\n",
    "input = torch.randn(128, 20)\n",
    "output = m(input)\n",
    "print(output.size())"
   ]
  },
  {
   "cell_type": "code",
   "execution_count": null,
   "metadata": {},
   "outputs": [],
   "source": [
    "a = torch.Tensor([[1, 2, 3], [4, 5, 6]])\n",
    "b = torch.Tensor([1, 2, 3, 4, 5, 6])\n",
    "print(a.view(1, 6))\n",
    "print(b.view(1, 6))"
   ]
  }
 ],
 "metadata": {
  "kernelspec": {
   "display_name": "Pytorch for Deeplearning",
   "language": "python",
   "name": "pytorch"
  },
  "language_info": {
   "codemirror_mode": {
    "name": "ipython",
    "version": 3
   },
   "file_extension": ".py",
   "mimetype": "text/x-python",
   "name": "python",
   "nbconvert_exporter": "python",
   "pygments_lexer": "ipython3",
   "version": "3.7.3"
  }
 },
 "nbformat": 4,
 "nbformat_minor": 2
}
